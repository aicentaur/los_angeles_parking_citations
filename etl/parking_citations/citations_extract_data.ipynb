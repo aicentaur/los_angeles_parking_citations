{
 "cells": [
  {
   "cell_type": "code",
   "execution_count": 1,
   "metadata": {},
   "outputs": [],
   "source": [
    "# Import Dependencies\n",
    "import requests\n",
    "import json\n",
    "import os\n",
    "import csv\n",
    "from pathlib import Path\n",
    "import pandas as pd\n",
    "from pandas import DataFrame\n",
    "from pandas.io.json import json_normalize"
   ]
  },
  {
   "cell_type": "code",
   "execution_count": null,
   "metadata": {},
   "outputs": [],
   "source": [
    "\"https://data.lacity.org/resource/8yfh-4gug.json?$limit=9477527\""
   ]
  },
  {
   "cell_type": "code",
   "execution_count": 2,
   "metadata": {},
   "outputs": [
    {
     "name": "stdout",
     "output_type": "stream",
     "text": [
      "API call 0 completed\n",
      "API call 1000000 completed\n",
      "API call 2000000 completed\n",
      "API call 3000000 completed\n",
      "API call 4000000 completed\n",
      "API call 5000000 completed\n",
      "API call 6000000 completed\n",
      "API call 7000000 completed\n",
      "API call 8000000 completed\n",
      "API call 9000000 completed\n"
     ]
    }
   ],
   "source": [
    "api_url = 'https://data.lacity.org/resource/8yfh-4gug.json'\n",
    "limit_number = 0\n",
    "offset_number = 0\n",
    "\n",
    "for x in range(0, 10):\n",
    "    url = api_url + '?$limit=' + str(limit_number + 1000000) + '&$offset=' + str(offset_number + 1000000)\n",
    "    response = json.dumps(requests.get(url).json())\n",
    "    writeFile = open(f\"page_{offset_number}.json\", 'w')\n",
    "    writeFile.write(response)\n",
    "    writeFile.close()\n",
    "    print(\"API call \"f\"{offset_number}\"\" completed\")\n",
    "    offset_number += 1000000"
   ]
  },
  {
   "cell_type": "code",
   "execution_count": 3,
   "metadata": {},
   "outputs": [
    {
     "name": "stderr",
     "output_type": "stream",
     "text": [
      "ERROR:root:Internal Python error in the inspect module.\n",
      "Below is the traceback from this internal error.\n",
      "\n"
     ]
    },
    {
     "name": "stdout",
     "output_type": "stream",
     "text": [
      "Traceback (most recent call last):\n",
      "  File \"/Users/pavelaltukhov/anaconda3/envs/PythonData/lib/python3.6/site-packages/IPython/core/interactiveshell.py\", line 3267, in run_code\n",
      "    exec(code_obj, self.user_global_ns, self.user_ns)\n",
      "  File \"<ipython-input-3-2aff569e29ce>\", line 9, in <module>\n",
      "    json_data.append(json.load(f))\n",
      "  File \"/Users/pavelaltukhov/anaconda3/envs/PythonData/lib/python3.6/json/__init__.py\", line 299, in load\n",
      "    parse_constant=parse_constant, object_pairs_hook=object_pairs_hook, **kw)\n",
      "  File \"/Users/pavelaltukhov/anaconda3/envs/PythonData/lib/python3.6/json/__init__.py\", line 354, in loads\n",
      "    return _default_decoder.decode(s)\n",
      "  File \"/Users/pavelaltukhov/anaconda3/envs/PythonData/lib/python3.6/json/decoder.py\", line 339, in decode\n",
      "    obj, end = self.raw_decode(s, idx=_w(s, 0).end())\n",
      "  File \"/Users/pavelaltukhov/anaconda3/envs/PythonData/lib/python3.6/json/decoder.py\", line 355, in raw_decode\n",
      "    obj, end = self.scan_once(s, idx)\n",
      "KeyboardInterrupt\n",
      "\n",
      "During handling of the above exception, another exception occurred:\n",
      "\n",
      "Traceback (most recent call last):\n",
      "  File \"/Users/pavelaltukhov/anaconda3/envs/PythonData/lib/python3.6/site-packages/IPython/core/interactiveshell.py\", line 2018, in showtraceback\n",
      "    stb = value._render_traceback_()\n",
      "AttributeError: 'KeyboardInterrupt' object has no attribute '_render_traceback_'\n",
      "\n",
      "During handling of the above exception, another exception occurred:\n",
      "\n",
      "Traceback (most recent call last):\n",
      "  File \"/Users/pavelaltukhov/anaconda3/envs/PythonData/lib/python3.6/site-packages/IPython/core/ultratb.py\", line 1095, in get_records\n",
      "    return _fixed_getinnerframes(etb, number_of_lines_of_context, tb_offset)\n",
      "  File \"/Users/pavelaltukhov/anaconda3/envs/PythonData/lib/python3.6/site-packages/IPython/core/ultratb.py\", line 313, in wrapped\n",
      "    return f(*args, **kwargs)\n",
      "  File \"/Users/pavelaltukhov/anaconda3/envs/PythonData/lib/python3.6/site-packages/IPython/core/ultratb.py\", line 347, in _fixed_getinnerframes\n",
      "    records = fix_frame_records_filenames(inspect.getinnerframes(etb, context))\n",
      "  File \"/Users/pavelaltukhov/anaconda3/envs/PythonData/lib/python3.6/inspect.py\", line 1488, in getinnerframes\n",
      "    frameinfo = (tb.tb_frame,) + getframeinfo(tb, context)\n",
      "  File \"/Users/pavelaltukhov/anaconda3/envs/PythonData/lib/python3.6/inspect.py\", line 1446, in getframeinfo\n",
      "    filename = getsourcefile(frame) or getfile(frame)\n",
      "  File \"/Users/pavelaltukhov/anaconda3/envs/PythonData/lib/python3.6/inspect.py\", line 696, in getsourcefile\n",
      "    if getattr(getmodule(object, filename), '__loader__', None) is not None:\n",
      "  File \"/Users/pavelaltukhov/anaconda3/envs/PythonData/lib/python3.6/inspect.py\", line 739, in getmodule\n",
      "    f = getabsfile(module)\n",
      "  File \"/Users/pavelaltukhov/anaconda3/envs/PythonData/lib/python3.6/inspect.py\", line 708, in getabsfile\n",
      "    _filename = getsourcefile(object) or getfile(object)\n",
      "  File \"/Users/pavelaltukhov/anaconda3/envs/PythonData/lib/python3.6/inspect.py\", line 693, in getsourcefile\n",
      "    if os.path.exists(filename):\n",
      "  File \"/Users/pavelaltukhov/anaconda3/envs/PythonData/lib/python3.6/genericpath.py\", line 19, in exists\n",
      "    os.stat(path)\n",
      "KeyboardInterrupt\n"
     ]
    },
    {
     "ename": "KeyboardInterrupt",
     "evalue": "",
     "output_type": "error",
     "traceback": [
      "\u001b[0;31m---------------------------------------------------------------------------\u001b[0m"
     ]
    }
   ],
   "source": [
    "json_folder_path = os.path.join(\"api_responses\")\n",
    "# In order to get the list of all files that ends with \".json\"\n",
    "# we will get list of all files, and take only the ones that ends with \"json\"\n",
    "json_files = [ x for x in os.listdir(json_folder_path) if x.endswith(\"json\") ]\n",
    "json_data = []\n",
    "for json_file in json_files:\n",
    "    json_file_path = os.path.join(json_folder_path, json_file)\n",
    "    with open (json_file_path, \"r\") as f:\n",
    "        json_data.append(json.load(f))"
   ]
  },
  {
   "cell_type": "code",
   "execution_count": null,
   "metadata": {},
   "outputs": [],
   "source": []
  },
  {
   "cell_type": "code",
   "execution_count": null,
   "metadata": {},
   "outputs": [],
   "source": []
  }
 ],
 "metadata": {
  "kernelspec": {
   "display_name": "Python 3",
   "language": "python",
   "name": "python3"
  },
  "language_info": {
   "codemirror_mode": {
    "name": "ipython",
    "version": 3
   },
   "file_extension": ".py",
   "mimetype": "text/x-python",
   "name": "python",
   "nbconvert_exporter": "python",
   "pygments_lexer": "ipython3",
   "version": "3.6.7"
  }
 },
 "nbformat": 4,
 "nbformat_minor": 2
}
